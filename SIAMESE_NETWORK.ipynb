{
 "cells": [
  {
   "cell_type": "markdown",
   "id": "4f17ab1a",
   "metadata": {},
   "source": [
    "# CASE 1"
   ]
  },
  {
   "cell_type": "code",
   "execution_count": 1,
   "id": "4a386a68",
   "metadata": {},
   "outputs": [],
   "source": [
    "import torch\n",
    "import torch.nn as nn\n",
    "import torchvision.models as models\n",
    "import torchvision.transforms as transforms\n",
    "from torch.utils.data import DataLoader, Dataset\n",
    "from PIL import Image\n",
    "import os"
   ]
  },
  {
   "cell_type": "code",
   "execution_count": 2,
   "id": "438cc191",
   "metadata": {},
   "outputs": [],
   "source": [
    "class SiameseNetwork(nn.Module):\n",
    "    def __init__(self):\n",
    "        super(SiameseNetwork, self).__init__()\n",
    "        self.resnet = models.resnet50(pretrained=True)\n",
    "        # remove the final classification layer\n",
    "        self.resnet = nn.Sequential(*list(self.resnet.children())[:-1])\n",
    "        # add a fully connected layer to output an embedding\n",
    "        self.fc = nn.Sequential(\n",
    "            nn.Linear(2048, 512),\n",
    "            nn.ReLU(),\n",
    "            nn.Linear(512, 128)\n",
    "        )\n",
    "    \n",
    "    def forward_one(self, x):\n",
    "        x = self.resnet(x)\n",
    "        # flatten the output\n",
    "        x = x.view(x.size(0), -1)\n",
    "        x = self.fc(x)\n",
    "        return x\n",
    "    \n",
    "    def forward(self, x1, x2):\n",
    "        output1 = self.forward_one(x1)\n",
    "        output2 = self.forward_one(x2)\n",
    "        return output1, output2"
   ]
  },
  {
   "cell_type": "code",
   "execution_count": 3,
   "id": "0634cf41",
   "metadata": {},
   "outputs": [],
   "source": [
    "class ContrastiveLoss(nn.Module):\n",
    "    def __init__(self, margin=2.0):\n",
    "        super(ContrastiveLoss, self).__init__()\n",
    "        self.margin = margin\n",
    "        \n",
    "    def forward(self, output1, output2, label):\n",
    "        euclidean_distance = nn.functional.pairwise_distance(output1, output2)\n",
    "        loss_contrastive = torch.mean((1-label) * torch.pow(euclidean_distance, 2) + (label) * torch.pow(torch.clamp(self.margin - euclidean_distance, min=0.0), 2))\n",
    "        return loss_contrastive"
   ]
  },
  {
   "cell_type": "code",
   "execution_count": 6,
   "id": "657601dd",
   "metadata": {},
   "outputs": [],
   "source": [
    "class SiameseDataset(Dataset):\n",
    "    def __init__(self, image_folder, transform=None):\n",
    "        self.image_folder = image_folder\n",
    "        self.transform = transform\n",
    "        self.image_paths, self.labels = self._prepare_data()\n",
    "        self.image_pairs = self._create_pairs()\n",
    "        \n",
    "    def _prepare_data(self):\n",
    "        image_paths = []\n",
    "        labels = []\n",
    "        for label, class_folder in enumerate(os.listdir(self.image_folder)):\n",
    "            class_path = os.path.join(self.image_folder, class_folder)\n",
    "            for img_name in os.listdir(class_path):\n",
    "                img_path = os.path.join(class_path, img_name)\n",
    "                image_paths.append(img_path)\n",
    "                labels.append(label)\n",
    "        return image_paths, labels\n",
    "    \n",
    "    def _create_pairs(self):\n",
    "        pairs = []\n",
    "        num_classes = len(set(self.labels))\n",
    "        class_to_images = {i:[] for i in range(num_classes)}\n",
    "        \n",
    "        for img_path, label in zip(self.image_paths, self.labels):\n",
    "            class_to_images[label].append(img_path)\n",
    "            \n",
    "        for label in class_to_images:\n",
    "            images = class_to_images[label]\n",
    "            for i in range(len(images)):\n",
    "                for j in range(i + 1, len(images)):\n",
    "                    # positive pair(same class)\n",
    "                    pairs.append((images[i], images[i], 0))\n",
    "                    \n",
    "        for label in class_to_images:\n",
    "            images = class_to_images[label]\n",
    "            for i in range(len(images)):\n",
    "                neg_label = random.choice([l for l in class_to_images if l != label])\n",
    "                neg_image = random.choice(class_to_images[neg_label])\n",
    "                # negative pairs(different classes)\n",
    "                pairs.append((images[i], neg_image, 1))\n",
    "                \n",
    "        random.shuffle(pairs)\n",
    "        return pairs\n",
    "    \n",
    "    def __len__(self):\n",
    "        return len(self.image_pairs)\n",
    "    \n",
    "    def __getitem__(self, idx):\n",
    "        img1_path, img2_path, label = self.image_pairs[idx]\n",
    "        img1 = Image.open(img1_path).convert(\"RGB\")\n",
    "        img2 = Image.open(img2_path).convert(\"RGB\")\n",
    "        \n",
    "        if self.transform:\n",
    "            img1 = self.transform(img1)\n",
    "            img2 = self.transform(img2)\n",
    "            \n",
    "        return img1, img2, torch.tensor(label, dtype = torch.float32)"
   ]
  },
  {
   "cell_type": "markdown",
   "id": "3ce62558",
   "metadata": {},
   "source": [
    "# CASE 2"
   ]
  },
  {
   "cell_type": "code",
   "execution_count": 8,
   "id": "4d0ee194",
   "metadata": {},
   "outputs": [],
   "source": [
    "class EmbeddingNet(nn.Module):\n",
    "    def __init__(self):\n",
    "        super(EmbeddingNet, self).__init__()\n",
    "        self.model = models.resnet50(pretrained=True)\n",
    "        self.model.fc = nn.Linear(self.model.fc.in_features, 128)\n",
    "        \n",
    "    def forward(self, x):\n",
    "        return self.model(x)"
   ]
  },
  {
   "cell_type": "code",
   "execution_count": 9,
   "id": "aafdeff7",
   "metadata": {},
   "outputs": [],
   "source": [
    "class TripletLoss(nn.Module):\n",
    "    def __init__(self, margin=1.0):\n",
    "        super(TripletLoss, self).__init__()\n",
    "        self.margin = margin\n",
    "        \n",
    "    def forward(self, anchor, positive, negative):\n",
    "        positive_distance = torch.nn.functional.pairwise_distance(anchor, positive, p=2)\n",
    "        negative_distance = torch.nn.functional.pairwise_distance(anchor, negative, p=2)\n",
    "        \n",
    "        loss = torch.relu(positive_distance - negative_distance + self.margin)\n",
    "        return loss.mean()"
   ]
  },
  {
   "cell_type": "code",
   "execution_count": 10,
   "id": "b34604ee",
   "metadata": {},
   "outputs": [],
   "source": [
    "class TripletDataset(Dataset):\n",
    "    def __init__(self, anchor_images, positive_images, negative_images, transform=None):\n",
    "        self.anchor_images = anchor_images\n",
    "        self.positive_images = positive_images\n",
    "        self.negative_images = negative_images\n",
    "        self.transform = transform\n",
    "        \n",
    "    def __len__(self):\n",
    "        return len(self.anchor_images)\n",
    "    \n",
    "    def __getitem__(self, idx):\n",
    "        anchor = Image.open(self.anchor_images[idx])\n",
    "        positive = Image.open(self.positive_images[idx])\n",
    "        negative = Image.open(self.negative_images[idx])\n",
    "        \n",
    "        if self.transform:\n",
    "            anchor = self.transform(anchor)\n",
    "            positive = self.transform(positive)\n",
    "            negative = self.transform(negative)\n",
    "            \n",
    "        return anchor, positive, negative"
   ]
  },
  {
   "cell_type": "code",
   "execution_count": null,
   "id": "883d09b5",
   "metadata": {},
   "outputs": [],
   "source": []
  }
 ],
 "metadata": {
  "kernelspec": {
   "display_name": "Python 3 (ipykernel)",
   "language": "python",
   "name": "python3"
  },
  "language_info": {
   "codemirror_mode": {
    "name": "ipython",
    "version": 3
   },
   "file_extension": ".py",
   "mimetype": "text/x-python",
   "name": "python",
   "nbconvert_exporter": "python",
   "pygments_lexer": "ipython3",
   "version": "3.10.9"
  }
 },
 "nbformat": 4,
 "nbformat_minor": 5
}
